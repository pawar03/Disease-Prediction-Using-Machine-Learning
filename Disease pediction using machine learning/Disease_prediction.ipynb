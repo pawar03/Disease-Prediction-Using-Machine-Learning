{
 "cells": [
  {
   "cell_type": "code",
   "execution_count": null,
   "id": "83e5d0af",
   "metadata": {},
   "outputs": [],
   "source": [
    "import numpy as np \n",
    "import pandas as pd \n",
    "import matplotlib.pyplot as plt\n",
    "import seaborn as sns\n",
    "from sklearn import preprocessing\n",
    "from sklearn.model_selection import train_test_split\n",
    "from sklearn.metrics import confusion_matrix\n",
    "from sklearn.linear_model import LogisticRegression\n",
    "from sklearn.tree import DecisionTreeClassifier\n",
    "from sklearn.ensemble import RandomForestClassifier\n",
    "from sklearn.ensemble import GradientBoostingClassifier\n",
    "from sklearn.ensemble import VotingClassifier"
   ]
  },
  {
   "cell_type": "code",
   "execution_count": null,
   "id": "f8e1752c",
   "metadata": {},
   "outputs": [],
   "source": [
    "df_train = pd.read_csv('Training.csv')"
   ]
  },
  {
   "cell_type": "code",
   "execution_count": null,
   "id": "7eb49205",
   "metadata": {},
   "outputs": [],
   "source": [
    "df_train"
   ]
  },
  {
   "cell_type": "code",
   "execution_count": null,
   "id": "83744c1b",
   "metadata": {},
   "outputs": [],
   "source": [
    "df_train.drop(columns='Unnamed: 133', inplace=True)"
   ]
  },
  {
   "cell_type": "code",
   "execution_count": null,
   "id": "b4a37ef0",
   "metadata": {},
   "outputs": [],
   "source": [
    "df_train.isnull().sum()"
   ]
  },
  {
   "cell_type": "code",
   "execution_count": null,
   "id": "4916bdc2",
   "metadata": {},
   "outputs": [],
   "source": [
    "df_train['prognosis'].value_counts()"
   ]
  },
  {
   "cell_type": "code",
   "execution_count": null,
   "id": "42936c89",
   "metadata": {},
   "outputs": [],
   "source": [
    "plt.figure(figsize=(20,10))\n",
    "sns.countplot(y=df_train['prognosis'])\n",
    "plt.show()"
   ]
  },
  {
   "cell_type": "code",
   "execution_count": null,
   "id": "96266069",
   "metadata": {},
   "outputs": [],
   "source": [
    "le = preprocessing.LabelEncoder()\n",
    "df_train['prognosis'] = le.fit_transform(df_train['prognosis'])"
   ]
  },
  {
   "cell_type": "code",
   "execution_count": null,
   "id": "bb26fa0c",
   "metadata": {},
   "outputs": [],
   "source": [
    "df_train"
   ]
  },
  {
   "cell_type": "code",
   "execution_count": null,
   "id": "280f636a",
   "metadata": {},
   "outputs": [],
   "source": [
    "X = df_train.drop(columns=['prognosis'])\n",
    "y = df_train['prognosis']"
   ]
  },
  {
   "cell_type": "code",
   "execution_count": null,
   "id": "3929324a",
   "metadata": {},
   "outputs": [],
   "source": [
    "from sklearn.feature_selection import SelectKBest\n",
    "from sklearn.feature_selection import chi2 , f_classif \n",
    "\n",
    "FeatureSelection = SelectKBest(score_func= chi2 ,k=118)  \n",
    "X = FeatureSelection.fit_transform(X, y)\n",
    "\n",
    "#showing X Dimension \n",
    "print('X Shape is ' , X.shape)"
   ]
  },
  {
   "cell_type": "code",
   "execution_count": null,
   "id": "9628cd0e",
   "metadata": {},
   "outputs": [],
   "source": [
    "#Splitting dataset\n",
    "X_train, X_test, y_train, y_test = train_test_split(X, y, test_size=0.2, random_state=44, shuffle =True)"
   ]
  },
  {
   "cell_type": "code",
   "execution_count": null,
   "id": "e2eaf364",
   "metadata": {},
   "outputs": [],
   "source": [
    "#Logistic regression  model\n",
    "LogisticRegressionModel = LogisticRegression()\n",
    "LogisticRegressionModel.fit(X_train, y_train)\n",
    "\n",
    "print('LogisticRegressionModel Train Score is : ' , LogisticRegressionModel.score(X_train, y_train))\n",
    "print('LogisticRegressionModel Test Score is : ' , LogisticRegressionModel.score(X_test, y_test))"
   ]
  },
  {
   "cell_type": "code",
   "execution_count": null,
   "id": "91dab957",
   "metadata": {},
   "outputs": [],
   "source": [
    "y_pred_LR = LogisticRegressionModel.predict(X_test)\n",
    "CM_LR = confusion_matrix(y_test, y_pred_LR)\n",
    "sns.heatmap(CM_LR, center=True)\n",
    "plt.show()\n",
    "print('Confusion Matrix is\\n', CM_LR)"
   ]
  },
  {
   "cell_type": "code",
   "execution_count": null,
   "id": "e0308fc5",
   "metadata": {},
   "outputs": [],
   "source": [
    "#Decision tree model\n",
    "DecisionTreeClassifierModel = DecisionTreeClassifier(criterion='entropy',max_depth=41,random_state=44)\n",
    "DecisionTreeClassifierModel.fit(X_train, y_train)\n",
    "\n",
    "print('DecisionTreeClassifierModel Train Score is : ' , DecisionTreeClassifierModel.score(X_train, y_train))\n",
    "print('DecisionTreeClassifierModel Test Score is : ' , DecisionTreeClassifierModel.score(X_test, y_test))"
   ]
  },
  {
   "cell_type": "code",
   "execution_count": null,
   "id": "b5107a66",
   "metadata": {},
   "outputs": [],
   "source": [
    "y_pred_DT = DecisionTreeClassifierModel.predict(X_test)\n",
    "CM_DT = confusion_matrix(y_test, y_pred_DT)\n",
    "sns.heatmap(CM_DT, center=True)\n",
    "plt.show()\n",
    "print('Confusion Matrix is\\n', CM_DT)"
   ]
  },
  {
   "cell_type": "code",
   "execution_count": null,
   "id": "936c2c73",
   "metadata": {},
   "outputs": [],
   "source": [
    "#Random forest model\n",
    "RandomForestClassifierModel = RandomForestClassifier(criterion = 'entropy', max_depth=14, n_estimators=100, random_state=44)\n",
    "RandomForestClassifierModel.fit(X_train, y_train)\n",
    "\n",
    "print('RandomForestClassifierModel Train Score is : ' , RandomForestClassifierModel.score(X_train, y_train))\n",
    "print('RandomForestClassifierModel Test Score is : ' , RandomForestClassifierModel.score(X_test, y_test))"
   ]
  },
  {
   "cell_type": "code",
   "execution_count": null,
   "id": "88b99c78",
   "metadata": {},
   "outputs": [],
   "source": [
    "y_pred_RF = RandomForestClassifierModel.predict(X_test)\n",
    "CM_RF = confusion_matrix(y_test, y_pred_RF)\n",
    "\n",
    "sns.heatmap(CM_RF, center=True)\n",
    "plt.show()\n",
    "\n",
    "print('Confusion Matrix is\\n', CM_RF)"
   ]
  },
  {
   "cell_type": "code",
   "execution_count": null,
   "id": "9702acb9",
   "metadata": {},
   "outputs": [],
   "source": [
    "#Gradient boosting model\n",
    "GBCModel = GradientBoostingClassifier(n_estimators=100, max_depth=5, learning_rate=0.1, random_state=44)\n",
    "GBCModel.fit(X_train, y_train)\n",
    "print('GBCModel Train Score is : ' , GBCModel.score(X_train, y_train))\n",
    "print('GBCModel Test Score is : ' , GBCModel.score(X_test, y_test))"
   ]
  },
  {
   "cell_type": "code",
   "execution_count": null,
   "id": "5390622c",
   "metadata": {},
   "outputs": [],
   "source": [
    "y_pred_GB = GBCModel.predict(X_test)\n",
    "CM_GB = confusion_matrix(y_test, y_pred_GB)\n",
    "\n",
    "sns.heatmap(CM_GB, center=True)\n",
    "plt.show()\n",
    "\n",
    "print('Confusion Matrix is\\n', CM_GB)"
   ]
  },
  {
   "cell_type": "code",
   "execution_count": null,
   "id": "4475aa33",
   "metadata": {},
   "outputs": [],
   "source": [
    "#Voting model\n",
    "VotingClassifierModel = VotingClassifier(estimators=[('LRModel',LogisticRegressionModel),\n",
    "                                                     ('GBCModel',GBCModel),\n",
    "                                                     ('RFCModel',RandomForestClassifierModel),\n",
    "                                                     ('TDCModel',DecisionTreeClassifierModel)],\n",
    "                                         voting='hard')\n",
    "VotingClassifierModel.fit(X_train, y_train)\n",
    "print('VotingClassifierModel Train Score is : ' , VotingClassifierModel.score(X_train, y_train))\n",
    "print('VotingClassifierModel Test Score is : ' , VotingClassifierModel.score(X_test, y_test))"
   ]
  },
  {
   "cell_type": "code",
   "execution_count": null,
   "id": "53e7e0eb",
   "metadata": {},
   "outputs": [],
   "source": [
    "y_pred_V = VotingClassifierModel.predict(X_test)\n",
    "CM_V = confusion_matrix(y_test, y_pred_V)\n",
    "sns.heatmap(CM_V, center=True)\n",
    "plt.show()\n",
    "print('Confusion Matrix is\\n', CM_V)"
   ]
  },
  {
   "cell_type": "code",
   "execution_count": null,
   "id": "ecc0201f",
   "metadata": {},
   "outputs": [],
   "source": []
  }
 ],
 "metadata": {
  "kernelspec": {
   "display_name": "Python 3 (ipykernel)",
   "language": "python",
   "name": "python3"
  },
  "language_info": {
   "codemirror_mode": {
    "name": "ipython",
    "version": 3
   },
   "file_extension": ".py",
   "mimetype": "text/x-python",
   "name": "python",
   "nbconvert_exporter": "python",
   "pygments_lexer": "ipython3",
   "version": "3.9.12"
  }
 },
 "nbformat": 4,
 "nbformat_minor": 5
}
